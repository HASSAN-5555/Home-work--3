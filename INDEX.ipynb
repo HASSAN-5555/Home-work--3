{
 "cells": [
  {
   "cell_type": "markdown",
   "metadata": {},
   "source": [
    "Exercise 3-1: Names"
   ]
  },
  {
   "cell_type": "code",
   "execution_count": null,
   "metadata": {},
   "outputs": [],
   "source": [
    "names=\"hassan\",\"ali\",\"ahmed\",\"raza\",\"Anas\"\n",
    "for name in names:\n",
    "    print(name)"
   ]
  },
  {
   "cell_type": "markdown",
   "metadata": {},
   "source": [
    "Exercise 3-2: Greetings"
   ]
  },
  {
   "cell_type": "code",
   "execution_count": null,
   "metadata": {},
   "outputs": [],
   "source": [
    "names=\"hassan\",\"ali\",\"ahmed\",\"raza\",\"Anas\"\n",
    "for name in names:\n",
    "    print(f\"hello {name} how are you\")"
   ]
  },
  {
   "cell_type": "markdown",
   "metadata": {},
   "source": [
    "Exercise 3-3: Your Own List"
   ]
  },
  {
   "cell_type": "code",
   "execution_count": null,
   "metadata": {},
   "outputs": [],
   "source": [
    "motorcycles=\"Harley-Davidson\", \"Ducati\", \"Yamaha\", \"Kawasaki\", \"Honda\"\n",
    "for bike in motorcycles:\n",
    " print(f\"I would like to own a {bike} motorcycle\")\n"
   ]
  },
  {
   "cell_type": "markdown",
   "metadata": {},
   "source": [
    "Exercise 3-4: Guest List"
   ]
  },
  {
   "cell_type": "code",
   "execution_count": null,
   "metadata": {},
   "outputs": [],
   "source": [
    "\n",
    "dinner_guests = [\"Ali\", \"zai khan\", \"Murad ali\"]\n",
    "for guest in dinner_guests:\n",
    "    print(f\"Dear {guest}, I would be honored to have you as a guest for dinner.\")\n"
   ]
  },
  {
   "cell_type": "markdown",
   "metadata": {},
   "source": [
    "Exercise 3-5: Changing Guest List"
   ]
  },
  {
   "cell_type": "code",
   "execution_count": null,
   "metadata": {},
   "outputs": [],
   "source": [
    "\n",
    "dinner_guests = [\"Albert Einstein\", \"Maya Angelou\", \"Leonardo da Vinci\"]\n",
    "for guest in dinner_guests:\n",
    "    print(f\"Dear {guest}, I would be honored to have you as a guest for dinner.\")\n",
    "unable_to_attend = \"Maya Angelou\"\n",
    "print(f\"\\nUnfortunately, {unable_to_attend} can't make it to the dinner.\")\n",
    "dinner_guests[dinner_guests.index(unable_to_attend)] = \"Nikola Tesla\"\n",
    "print(\"\\nNew invitations:\")\n",
    "for guest in dinner_guests:\n",
    "    print(f\"Dear {guest}, I would be honored to have you as a guest for dinner.\")\n"
   ]
  },
  {
   "cell_type": "markdown",
   "metadata": {},
   "source": [
    "Exercise 3-6: More Guests"
   ]
  },
  {
   "cell_type": "code",
   "execution_count": null,
   "metadata": {},
   "outputs": [],
   "source": [
    "\n",
    "dinner_guests = [\"Albert Einstein\", \"Nikola Tesla\", \"Leonardo da Vinci\"]\n",
    "for guest in dinner_guests:\n",
    "    print(f\"Dear {guest}, I would be honored to have you as a guest for dinner.\")\n",
    "print(\"\\nGreat news! I found a bigger table, so I can invite more guests.\")\n",
    "dinner_guests.insert(0, \"Marie Curie\")\n",
    "middle_index = len(dinner_guests) // 2\n",
    "dinner_guests.insert(middle_index, \"Jane Austen\")\n",
    "dinner_guests.append(\"Frida Kahlo\")\n",
    "print(\"\\nNew invitations:\")\n",
    "for guest in dinner_guests:\n",
    "    print(f\"Dear {guest}, I would be honored to have you as a guest for dinner.\")\n"
   ]
  },
  {
   "cell_type": "markdown",
   "metadata": {},
   "source": [
    "Exercise 3-7: Shrinking Guest List"
   ]
  },
  {
   "cell_type": "code",
   "execution_count": null,
   "metadata": {},
   "outputs": [],
   "source": [
    "\n",
    "dinner_guests = [\"Marie Curie\", \"Albert Einstein\", \"Jane Austen\", \"Nikola Tesla\", \"Leonardo da Vinci\", \"Frida Kahlo\"]\n",
    "for guest in dinner_guests:\n",
    "    print(f\"Dear {guest}, I would be honored to have you as a guest for dinner.\")\n",
    "print(\"\\nUnfortunately, I can only invite two people for dinner.\")\n",
    "while len(dinner_guests) > 2:\n",
    "    removed_guest = dinner_guests.pop()\n",
    "    print(f\"Dear {removed_guest}, I'm sorry, but I can no longer invite you to dinner.\")\n",
    "for guest in dinner_guests:\n",
    "    print(f\"Dear {guest}, you're still invited to dinner!\")\n",
    "del dinner_guests[0]\n",
    "del dinner_guests[0]\n",
    "print(\"\\nFinal guest list:\", dinner_guests)\n"
   ]
  },
  {
   "cell_type": "markdown",
   "metadata": {},
   "source": [
    "Exercise 3-8: Seeing the World"
   ]
  },
  {
   "cell_type": "code",
   "execution_count": null,
   "metadata": {},
   "outputs": [],
   "source": [
    "\n",
    "places_to_visit = [\"Tokyo\", \"Machu Picchu\", \"Iceland\", \"New Zealand\", \"Santorini\"]\n",
    "\n",
    "print(\"Original list of places to visit:\")\n",
    "print(places_to_visit)\n",
    "print(\"\\nList in alphabetical order (using sorted()):\")\n",
    "print(sorted(places_to_visit))\n",
    "print(\"\\nList after using sorted() (original order retained):\")\n",
    "print(places_to_visit)\n",
    "print(\"\\nList in reverse-alphabetical order (using sorted() with reverse=True):\")\n",
    "print(sorted(places_to_visit, reverse=True))\n",
    "print(\"\\nList after using sorted() in reverse (original order retained):\")\n",
    "print(places_to_visit)\n",
    "places_to_visit.reverse()\n",
    "print(\"\\nList after using reverse():\")\n",
    "print(places_to_visit)\n",
    "places_to_visit.reverse()\n",
    "print(\"\\nList after using reverse() again (back to original order):\")\n",
    "print(places_to_visit)\n",
    "\n",
    "places_to_visit.sort()\n",
    "print(\"\\nList after using sort() (alphabetical order):\")\n",
    "print(places_to_visit)\n",
    "places_to_visit.sort(reverse=True)\n",
    "print(\"\\nList after using sort() in reverse (reverse-alphabetical order):\")\n",
    "print(places_to_visit)\n"
   ]
  },
  {
   "cell_type": "markdown",
   "metadata": {},
   "source": [
    "Exercise 3-9: Every Function"
   ]
  },
  {
   "cell_type": "code",
   "execution_count": null,
   "metadata": {},
   "outputs": [],
   "source": [
    "\n",
    "languages = [\"Python\", \"JavaScript\", \"C++\", \"Ruby\", \"Java\"]\n",
    "print(\"Original list of languages:\")\n",
    "print(languages)\n",
    "print(\"\\nThe first language in the list is:\", languages[0])\n",
    "languages[2] = \"C#\"\n",
    "print(\"\\nList after modifying the third language:\")\n",
    "print(languages)\n",
    "languages.append(\"Go\")\n",
    "print(\"\\nList after adding a new language using append():\")\n",
    "print(languages)\n",
    "languages.insert(1, \"Swift\")\n",
    "print(\"\\nList after inserting a new language at the second position:\")\n",
    "print(languages)\n",
    "languages.remove(\"Java\")\n",
    "print(\"\\nList after removing 'Java' using remove():\")\n",
    "print(languages)\n",
    "popped_language = languages.pop()\n",
    "print(\"\\nList after popping the last language:\")\n",
    "print(languages)\n",
    "print(f\"Popped language: {popped_language}\")\n",
    "languages.sort()\n",
    "print(\"\\nList after sorting alphabetically using sort():\")\n",
    "print(languages)\n",
    "languages.sort(reverse=True)\n",
    "print(\"\\nList after sorting in reverse alphabetical order using sort(reverse=True):\")\n",
    "print(languages)\n",
    "languages.reverse()\n",
    "print(\"\\nList after reversing the order using reverse():\")\n",
    "print(languages)\n",
    "length_of_list = len(languages)\n",
    "print(\"\\nThe number of languages in the list is:\", length_of_list)\n",
    "print(\"\\nList in alphabetical order using sorted():\")\n",
    "print(sorted(languages))\n",
    "print(\"\\nOriginal list after using sorted():\")\n",
    "print(languages)\n",
    "languages.clear()\n",
    "print(\"\\nList after using clear():\")\n",
    "print(languages)\n"
   ]
  },
  {
   "cell_type": "markdown",
   "metadata": {},
   "source": [
    "Exercise 3-10: Intentional Error"
   ]
  },
  {
   "cell_type": "code",
   "execution_count": null,
   "metadata": {},
   "outputs": [],
   "source": [
    "# List of languages\n",
    "languages = [\"Python\", \"JavaScript\", \"C++\", \"Ruby\", \"Java\"]\n",
    "\n",
    "# Attempting to access an out-of-range index (this will cause an IndexError)\n",
    "print(\"Trying to access an out-of-range index:\")\n",
    "try:\n",
    "    print(languages[5])  # Index 5 is out of range for this list\n",
    "except IndexError as e:\n",
    "    print(f\"Error: {e}\")\n",
    "\n",
    "# Correcting the error by accessing a valid index\n",
    "print(\"\\nCorrecting the index and accessing the last element:\")\n",
    "print(languages[-1])  # Accessing the last element correctly using index -1\n"
   ]
  }
 ],
 "metadata": {
  "kernelspec": {
   "display_name": "base",
   "language": "python",
   "name": "python3"
  },
  "language_info": {
   "codemirror_mode": {
    "name": "ipython",
    "version": 3
   },
   "file_extension": ".py",
   "mimetype": "text/x-python",
   "name": "python",
   "nbconvert_exporter": "python",
   "pygments_lexer": "ipython3",
   "version": "3.12.4"
  }
 },
 "nbformat": 4,
 "nbformat_minor": 2
}
