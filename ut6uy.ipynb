{
 "cells": [
  {
   "cell_type": "code",
   "execution_count": null,
   "metadata": {},
   "outputs": [],
   "source": []
  },
  {
   "cell_type": "code",
   "execution_count": 1,
   "metadata": {},
   "outputs": [
    {
     "name": "stdout",
     "output_type": "stream",
     "text": [
      "After append: [1, 2, 3, 4, 5, 6]\n",
      "After extend: [1, 2, 3, 4, 5, 6, 7, 8]\n",
      "After insert: [1, 2, 10, 3, 4, 5, 6, 7, 8]\n",
      "After remove: [1, 2, 3, 4, 5, 6, 7, 8]\n",
      "After pop: [1, 2, 3, 4, 5, 6, 7]\n",
      "Popped item: 8\n",
      "After clear: []\n",
      "Index of 3: 2\n",
      "Count of 5: 3\n",
      "After sort: [1, 2, 3, 4, 5, 5, 5]\n",
      "After reverse: [5, 5, 5, 4, 3, 2, 1]\n",
      "Copy of the list: [5, 5, 5, 4, 3, 2, 1]\n"
     ]
    }
   ],
   "source": [
    "# Create a list\n",
    "my_list = [1, 2, 3, 4, 5]\n",
    "\n",
    "# append() - Adds an item to the end of the list\n",
    "my_list.append(6)\n",
    "print(\"After append:\", my_list)  # [1, 2, 3, 4, 5, 6]\n",
    "\n",
    "# extend() - Extends the list by appending elements from an iterable\n",
    "my_list.extend([7, 8])\n",
    "print(\"After extend:\", my_list)  # [1, 2, 3, 4, 5, 6, 7, 8]\n",
    "\n",
    "# insert() - Inserts an item at a specified index\n",
    "my_list.insert(2, 10)\n",
    "print(\"After insert:\", my_list)  # [1, 2, 10, 3, 4, 5, 6, 7, 8]\n",
    "\n",
    "# remove() - Removes the first occurrence of a specified item\n",
    "my_list.remove(10)\n",
    "print(\"After remove:\", my_list)  # [1, 2, 3, 4, 5, 6, 7, 8]\n",
    "\n",
    "# pop() - Removes and returns the item at the specified index (or the last item if no index is specified)\n",
    "popped_item = my_list.pop()\n",
    "print(\"After pop:\", my_list)  # [1, 2, 3, 4, 5, 6, 7]\n",
    "print(\"Popped item:\", popped_item)  # 8\n",
    "\n",
    "# clear() - Removes all items from the list\n",
    "my_list.clear()\n",
    "print(\"After clear:\", my_list)  # []\n",
    "\n",
    "# Re-create a list for further examples\n",
    "my_list = [1, 2, 3, 4, 5, 5, 5]\n",
    "\n",
    "# index() - Returns the index of the first occurrence of a specified item\n",
    "index_of_3 = my_list.index(3)\n",
    "print(\"Index of 3:\", index_of_3)  # 2\n",
    "\n",
    "# count() - Returns the number of times a specified item appears in the list\n",
    "count_of_5 = my_list.count(5)\n",
    "print(\"Count of 5:\", count_of_5)  # 3\n",
    "\n",
    "# sort() - Sorts the list in ascending order by default\n",
    "my_list.sort()\n",
    "print(\"After sort:\", my_list)  # [1, 2, 3, 4, 5, 5, 5]\n",
    "\n",
    "# reverse() - Reverses the order of items in the list\n",
    "my_list.reverse()\n",
    "print(\"After reverse:\", my_list)  # [5, 5, 5, 4, 3, 2, 1]\n",
    "\n",
    "# copy() - Returns a shallow copy of the list\n",
    "my_list_copy = my_list.copy()\n",
    "print(\"Copy of the list:\", my_list_copy)  # [5, 5, 5, 4, 3, 2, 1]\n"
   ]
  }
 ],
 "metadata": {
  "kernelspec": {
   "display_name": "base",
   "language": "python",
   "name": "python3"
  },
  "language_info": {
   "codemirror_mode": {
    "name": "ipython",
    "version": 3
   },
   "file_extension": ".py",
   "mimetype": "text/x-python",
   "name": "python",
   "nbconvert_exporter": "python",
   "pygments_lexer": "ipython3",
   "version": "3.12.4"
  }
 },
 "nbformat": 4,
 "nbformat_minor": 2
}
